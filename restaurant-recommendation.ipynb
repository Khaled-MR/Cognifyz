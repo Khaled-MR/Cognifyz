{
 "cells": [
  {
   "cell_type": "code",
   "execution_count": 1,
   "metadata": {
    "execution": {
     "iopub.execute_input": "2024-09-14T20:42:29.799260Z",
     "iopub.status.busy": "2024-09-14T20:42:29.798831Z",
     "iopub.status.idle": "2024-09-14T20:42:44.415837Z",
     "shell.execute_reply": "2024-09-14T20:42:44.414680Z",
     "shell.execute_reply.started": "2024-09-14T20:42:29.799220Z"
    }
   },
   "outputs": [],
   "source": [
    "import pandas as pd\n",
    "import numpy as np"
   ]
  },
  {
   "cell_type": "code",
   "execution_count": 2,
   "metadata": {
    "execution": {
     "iopub.execute_input": "2024-09-14T20:43:02.420114Z",
     "iopub.status.busy": "2024-09-14T20:43:02.419051Z",
     "iopub.status.idle": "2024-09-14T20:43:02.524664Z",
     "shell.execute_reply": "2024-09-14T20:43:02.523324Z",
     "shell.execute_reply.started": "2024-09-14T20:43:02.420066Z"
    }
   },
   "outputs": [],
   "source": [
    "hh_data = pd.read_csv(\"/kaggle/input/datasetsss/Dataset .csv\")"
   ]
  },
  {
   "cell_type": "code",
   "execution_count": 3,
   "metadata": {
    "execution": {
     "iopub.execute_input": "2024-09-14T20:43:07.564446Z",
     "iopub.status.busy": "2024-09-14T20:43:07.564000Z",
     "iopub.status.idle": "2024-09-14T20:43:07.622388Z",
     "shell.execute_reply": "2024-09-14T20:43:07.621329Z",
     "shell.execute_reply.started": "2024-09-14T20:43:07.564405Z"
    }
   },
   "outputs": [
    {
     "data": {
      "text/html": [
       "<div>\n",
       "<style scoped>\n",
       "    .dataframe tbody tr th:only-of-type {\n",
       "        vertical-align: middle;\n",
       "    }\n",
       "\n",
       "    .dataframe tbody tr th {\n",
       "        vertical-align: top;\n",
       "    }\n",
       "\n",
       "    .dataframe thead th {\n",
       "        text-align: right;\n",
       "    }\n",
       "</style>\n",
       "<table border=\"1\" class=\"dataframe\">\n",
       "  <thead>\n",
       "    <tr style=\"text-align: right;\">\n",
       "      <th></th>\n",
       "      <th>Restaurant ID</th>\n",
       "      <th>Restaurant Name</th>\n",
       "      <th>Country Code</th>\n",
       "      <th>City</th>\n",
       "      <th>Address</th>\n",
       "      <th>Locality</th>\n",
       "      <th>Locality Verbose</th>\n",
       "      <th>Longitude</th>\n",
       "      <th>Latitude</th>\n",
       "      <th>Cuisines</th>\n",
       "      <th>...</th>\n",
       "      <th>Currency</th>\n",
       "      <th>Has Table booking</th>\n",
       "      <th>Has Online delivery</th>\n",
       "      <th>Is delivering now</th>\n",
       "      <th>Switch to order menu</th>\n",
       "      <th>Price range</th>\n",
       "      <th>Aggregate rating</th>\n",
       "      <th>Rating color</th>\n",
       "      <th>Rating text</th>\n",
       "      <th>Votes</th>\n",
       "    </tr>\n",
       "  </thead>\n",
       "  <tbody>\n",
       "    <tr>\n",
       "      <th>0</th>\n",
       "      <td>6317637</td>\n",
       "      <td>Le Petit Souffle</td>\n",
       "      <td>162</td>\n",
       "      <td>Makati City</td>\n",
       "      <td>Third Floor, Century City Mall, Kalayaan Avenu...</td>\n",
       "      <td>Century City Mall, Poblacion, Makati City</td>\n",
       "      <td>Century City Mall, Poblacion, Makati City, Mak...</td>\n",
       "      <td>121.027535</td>\n",
       "      <td>14.565443</td>\n",
       "      <td>French, Japanese, Desserts</td>\n",
       "      <td>...</td>\n",
       "      <td>Botswana Pula(P)</td>\n",
       "      <td>Yes</td>\n",
       "      <td>No</td>\n",
       "      <td>No</td>\n",
       "      <td>No</td>\n",
       "      <td>3</td>\n",
       "      <td>4.8</td>\n",
       "      <td>Dark Green</td>\n",
       "      <td>Excellent</td>\n",
       "      <td>314</td>\n",
       "    </tr>\n",
       "    <tr>\n",
       "      <th>1</th>\n",
       "      <td>6304287</td>\n",
       "      <td>Izakaya Kikufuji</td>\n",
       "      <td>162</td>\n",
       "      <td>Makati City</td>\n",
       "      <td>Little Tokyo, 2277 Chino Roces Avenue, Legaspi...</td>\n",
       "      <td>Little Tokyo, Legaspi Village, Makati City</td>\n",
       "      <td>Little Tokyo, Legaspi Village, Makati City, Ma...</td>\n",
       "      <td>121.014101</td>\n",
       "      <td>14.553708</td>\n",
       "      <td>Japanese</td>\n",
       "      <td>...</td>\n",
       "      <td>Botswana Pula(P)</td>\n",
       "      <td>Yes</td>\n",
       "      <td>No</td>\n",
       "      <td>No</td>\n",
       "      <td>No</td>\n",
       "      <td>3</td>\n",
       "      <td>4.5</td>\n",
       "      <td>Dark Green</td>\n",
       "      <td>Excellent</td>\n",
       "      <td>591</td>\n",
       "    </tr>\n",
       "    <tr>\n",
       "      <th>2</th>\n",
       "      <td>6300002</td>\n",
       "      <td>Heat - Edsa Shangri-La</td>\n",
       "      <td>162</td>\n",
       "      <td>Mandaluyong City</td>\n",
       "      <td>Edsa Shangri-La, 1 Garden Way, Ortigas, Mandal...</td>\n",
       "      <td>Edsa Shangri-La, Ortigas, Mandaluyong City</td>\n",
       "      <td>Edsa Shangri-La, Ortigas, Mandaluyong City, Ma...</td>\n",
       "      <td>121.056831</td>\n",
       "      <td>14.581404</td>\n",
       "      <td>Seafood, Asian, Filipino, Indian</td>\n",
       "      <td>...</td>\n",
       "      <td>Botswana Pula(P)</td>\n",
       "      <td>Yes</td>\n",
       "      <td>No</td>\n",
       "      <td>No</td>\n",
       "      <td>No</td>\n",
       "      <td>4</td>\n",
       "      <td>4.4</td>\n",
       "      <td>Green</td>\n",
       "      <td>Very Good</td>\n",
       "      <td>270</td>\n",
       "    </tr>\n",
       "    <tr>\n",
       "      <th>3</th>\n",
       "      <td>6318506</td>\n",
       "      <td>Ooma</td>\n",
       "      <td>162</td>\n",
       "      <td>Mandaluyong City</td>\n",
       "      <td>Third Floor, Mega Fashion Hall, SM Megamall, O...</td>\n",
       "      <td>SM Megamall, Ortigas, Mandaluyong City</td>\n",
       "      <td>SM Megamall, Ortigas, Mandaluyong City, Mandal...</td>\n",
       "      <td>121.056475</td>\n",
       "      <td>14.585318</td>\n",
       "      <td>Japanese, Sushi</td>\n",
       "      <td>...</td>\n",
       "      <td>Botswana Pula(P)</td>\n",
       "      <td>No</td>\n",
       "      <td>No</td>\n",
       "      <td>No</td>\n",
       "      <td>No</td>\n",
       "      <td>4</td>\n",
       "      <td>4.9</td>\n",
       "      <td>Dark Green</td>\n",
       "      <td>Excellent</td>\n",
       "      <td>365</td>\n",
       "    </tr>\n",
       "    <tr>\n",
       "      <th>4</th>\n",
       "      <td>6314302</td>\n",
       "      <td>Sambo Kojin</td>\n",
       "      <td>162</td>\n",
       "      <td>Mandaluyong City</td>\n",
       "      <td>Third Floor, Mega Atrium, SM Megamall, Ortigas...</td>\n",
       "      <td>SM Megamall, Ortigas, Mandaluyong City</td>\n",
       "      <td>SM Megamall, Ortigas, Mandaluyong City, Mandal...</td>\n",
       "      <td>121.057508</td>\n",
       "      <td>14.584450</td>\n",
       "      <td>Japanese, Korean</td>\n",
       "      <td>...</td>\n",
       "      <td>Botswana Pula(P)</td>\n",
       "      <td>Yes</td>\n",
       "      <td>No</td>\n",
       "      <td>No</td>\n",
       "      <td>No</td>\n",
       "      <td>4</td>\n",
       "      <td>4.8</td>\n",
       "      <td>Dark Green</td>\n",
       "      <td>Excellent</td>\n",
       "      <td>229</td>\n",
       "    </tr>\n",
       "    <tr>\n",
       "      <th>...</th>\n",
       "      <td>...</td>\n",
       "      <td>...</td>\n",
       "      <td>...</td>\n",
       "      <td>...</td>\n",
       "      <td>...</td>\n",
       "      <td>...</td>\n",
       "      <td>...</td>\n",
       "      <td>...</td>\n",
       "      <td>...</td>\n",
       "      <td>...</td>\n",
       "      <td>...</td>\n",
       "      <td>...</td>\n",
       "      <td>...</td>\n",
       "      <td>...</td>\n",
       "      <td>...</td>\n",
       "      <td>...</td>\n",
       "      <td>...</td>\n",
       "      <td>...</td>\n",
       "      <td>...</td>\n",
       "      <td>...</td>\n",
       "      <td>...</td>\n",
       "    </tr>\n",
       "    <tr>\n",
       "      <th>9546</th>\n",
       "      <td>5915730</td>\n",
       "      <td>Naml۱ Gurme</td>\n",
       "      <td>208</td>\n",
       "      <td>��stanbul</td>\n",
       "      <td>Kemanke�� Karamustafa Pa��a Mahallesi, R۱ht۱m ...</td>\n",
       "      <td>Karak�_y</td>\n",
       "      <td>Karak�_y, ��stanbul</td>\n",
       "      <td>28.977392</td>\n",
       "      <td>41.022793</td>\n",
       "      <td>Turkish</td>\n",
       "      <td>...</td>\n",
       "      <td>Turkish Lira(TL)</td>\n",
       "      <td>No</td>\n",
       "      <td>No</td>\n",
       "      <td>No</td>\n",
       "      <td>No</td>\n",
       "      <td>3</td>\n",
       "      <td>4.1</td>\n",
       "      <td>Green</td>\n",
       "      <td>Very Good</td>\n",
       "      <td>788</td>\n",
       "    </tr>\n",
       "    <tr>\n",
       "      <th>9547</th>\n",
       "      <td>5908749</td>\n",
       "      <td>Ceviz A��ac۱</td>\n",
       "      <td>208</td>\n",
       "      <td>��stanbul</td>\n",
       "      <td>Ko��uyolu Mahallesi, Muhittin ��st�_nda�� Cadd...</td>\n",
       "      <td>Ko��uyolu</td>\n",
       "      <td>Ko��uyolu, ��stanbul</td>\n",
       "      <td>29.041297</td>\n",
       "      <td>41.009847</td>\n",
       "      <td>World Cuisine, Patisserie, Cafe</td>\n",
       "      <td>...</td>\n",
       "      <td>Turkish Lira(TL)</td>\n",
       "      <td>No</td>\n",
       "      <td>No</td>\n",
       "      <td>No</td>\n",
       "      <td>No</td>\n",
       "      <td>3</td>\n",
       "      <td>4.2</td>\n",
       "      <td>Green</td>\n",
       "      <td>Very Good</td>\n",
       "      <td>1034</td>\n",
       "    </tr>\n",
       "    <tr>\n",
       "      <th>9548</th>\n",
       "      <td>5915807</td>\n",
       "      <td>Huqqa</td>\n",
       "      <td>208</td>\n",
       "      <td>��stanbul</td>\n",
       "      <td>Kuru�_e��me Mahallesi, Muallim Naci Caddesi, N...</td>\n",
       "      <td>Kuru�_e��me</td>\n",
       "      <td>Kuru�_e��me, ��stanbul</td>\n",
       "      <td>29.034640</td>\n",
       "      <td>41.055817</td>\n",
       "      <td>Italian, World Cuisine</td>\n",
       "      <td>...</td>\n",
       "      <td>Turkish Lira(TL)</td>\n",
       "      <td>No</td>\n",
       "      <td>No</td>\n",
       "      <td>No</td>\n",
       "      <td>No</td>\n",
       "      <td>4</td>\n",
       "      <td>3.7</td>\n",
       "      <td>Yellow</td>\n",
       "      <td>Good</td>\n",
       "      <td>661</td>\n",
       "    </tr>\n",
       "    <tr>\n",
       "      <th>9549</th>\n",
       "      <td>5916112</td>\n",
       "      <td>A���k Kahve</td>\n",
       "      <td>208</td>\n",
       "      <td>��stanbul</td>\n",
       "      <td>Kuru�_e��me Mahallesi, Muallim Naci Caddesi, N...</td>\n",
       "      <td>Kuru�_e��me</td>\n",
       "      <td>Kuru�_e��me, ��stanbul</td>\n",
       "      <td>29.036019</td>\n",
       "      <td>41.057979</td>\n",
       "      <td>Restaurant Cafe</td>\n",
       "      <td>...</td>\n",
       "      <td>Turkish Lira(TL)</td>\n",
       "      <td>No</td>\n",
       "      <td>No</td>\n",
       "      <td>No</td>\n",
       "      <td>No</td>\n",
       "      <td>4</td>\n",
       "      <td>4.0</td>\n",
       "      <td>Green</td>\n",
       "      <td>Very Good</td>\n",
       "      <td>901</td>\n",
       "    </tr>\n",
       "    <tr>\n",
       "      <th>9550</th>\n",
       "      <td>5927402</td>\n",
       "      <td>Walter's Coffee Roastery</td>\n",
       "      <td>208</td>\n",
       "      <td>��stanbul</td>\n",
       "      <td>Cafea��a Mahallesi, Bademalt۱ Sokak, No 21/B, ...</td>\n",
       "      <td>Moda</td>\n",
       "      <td>Moda, ��stanbul</td>\n",
       "      <td>29.026016</td>\n",
       "      <td>40.984776</td>\n",
       "      <td>Cafe</td>\n",
       "      <td>...</td>\n",
       "      <td>Turkish Lira(TL)</td>\n",
       "      <td>No</td>\n",
       "      <td>No</td>\n",
       "      <td>No</td>\n",
       "      <td>No</td>\n",
       "      <td>2</td>\n",
       "      <td>4.0</td>\n",
       "      <td>Green</td>\n",
       "      <td>Very Good</td>\n",
       "      <td>591</td>\n",
       "    </tr>\n",
       "  </tbody>\n",
       "</table>\n",
       "<p>9551 rows × 21 columns</p>\n",
       "</div>"
      ],
      "text/plain": [
       "      Restaurant ID           Restaurant Name  Country Code              City  \\\n",
       "0           6317637          Le Petit Souffle           162       Makati City   \n",
       "1           6304287          Izakaya Kikufuji           162       Makati City   \n",
       "2           6300002    Heat - Edsa Shangri-La           162  Mandaluyong City   \n",
       "3           6318506                      Ooma           162  Mandaluyong City   \n",
       "4           6314302               Sambo Kojin           162  Mandaluyong City   \n",
       "...             ...                       ...           ...               ...   \n",
       "9546        5915730               Naml۱ Gurme           208         ��stanbul   \n",
       "9547        5908749              Ceviz A��ac۱           208         ��stanbul   \n",
       "9548        5915807                     Huqqa           208         ��stanbul   \n",
       "9549        5916112               A���k Kahve           208         ��stanbul   \n",
       "9550        5927402  Walter's Coffee Roastery           208         ��stanbul   \n",
       "\n",
       "                                                Address  \\\n",
       "0     Third Floor, Century City Mall, Kalayaan Avenu...   \n",
       "1     Little Tokyo, 2277 Chino Roces Avenue, Legaspi...   \n",
       "2     Edsa Shangri-La, 1 Garden Way, Ortigas, Mandal...   \n",
       "3     Third Floor, Mega Fashion Hall, SM Megamall, O...   \n",
       "4     Third Floor, Mega Atrium, SM Megamall, Ortigas...   \n",
       "...                                                 ...   \n",
       "9546  Kemanke�� Karamustafa Pa��a Mahallesi, R۱ht۱m ...   \n",
       "9547  Ko��uyolu Mahallesi, Muhittin ��st�_nda�� Cadd...   \n",
       "9548  Kuru�_e��me Mahallesi, Muallim Naci Caddesi, N...   \n",
       "9549  Kuru�_e��me Mahallesi, Muallim Naci Caddesi, N...   \n",
       "9550  Cafea��a Mahallesi, Bademalt۱ Sokak, No 21/B, ...   \n",
       "\n",
       "                                        Locality  \\\n",
       "0      Century City Mall, Poblacion, Makati City   \n",
       "1     Little Tokyo, Legaspi Village, Makati City   \n",
       "2     Edsa Shangri-La, Ortigas, Mandaluyong City   \n",
       "3         SM Megamall, Ortigas, Mandaluyong City   \n",
       "4         SM Megamall, Ortigas, Mandaluyong City   \n",
       "...                                          ...   \n",
       "9546                                    Karak�_y   \n",
       "9547                                   Ko��uyolu   \n",
       "9548                                 Kuru�_e��me   \n",
       "9549                                 Kuru�_e��me   \n",
       "9550                                        Moda   \n",
       "\n",
       "                                       Locality Verbose   Longitude  \\\n",
       "0     Century City Mall, Poblacion, Makati City, Mak...  121.027535   \n",
       "1     Little Tokyo, Legaspi Village, Makati City, Ma...  121.014101   \n",
       "2     Edsa Shangri-La, Ortigas, Mandaluyong City, Ma...  121.056831   \n",
       "3     SM Megamall, Ortigas, Mandaluyong City, Mandal...  121.056475   \n",
       "4     SM Megamall, Ortigas, Mandaluyong City, Mandal...  121.057508   \n",
       "...                                                 ...         ...   \n",
       "9546                                Karak�_y, ��stanbul   28.977392   \n",
       "9547                               Ko��uyolu, ��stanbul   29.041297   \n",
       "9548                             Kuru�_e��me, ��stanbul   29.034640   \n",
       "9549                             Kuru�_e��me, ��stanbul   29.036019   \n",
       "9550                                    Moda, ��stanbul   29.026016   \n",
       "\n",
       "       Latitude                          Cuisines  ...          Currency  \\\n",
       "0     14.565443        French, Japanese, Desserts  ...  Botswana Pula(P)   \n",
       "1     14.553708                          Japanese  ...  Botswana Pula(P)   \n",
       "2     14.581404  Seafood, Asian, Filipino, Indian  ...  Botswana Pula(P)   \n",
       "3     14.585318                   Japanese, Sushi  ...  Botswana Pula(P)   \n",
       "4     14.584450                  Japanese, Korean  ...  Botswana Pula(P)   \n",
       "...         ...                               ...  ...               ...   \n",
       "9546  41.022793                           Turkish  ...  Turkish Lira(TL)   \n",
       "9547  41.009847   World Cuisine, Patisserie, Cafe  ...  Turkish Lira(TL)   \n",
       "9548  41.055817            Italian, World Cuisine  ...  Turkish Lira(TL)   \n",
       "9549  41.057979                   Restaurant Cafe  ...  Turkish Lira(TL)   \n",
       "9550  40.984776                              Cafe  ...  Turkish Lira(TL)   \n",
       "\n",
       "     Has Table booking Has Online delivery Is delivering now  \\\n",
       "0                  Yes                  No                No   \n",
       "1                  Yes                  No                No   \n",
       "2                  Yes                  No                No   \n",
       "3                   No                  No                No   \n",
       "4                  Yes                  No                No   \n",
       "...                ...                 ...               ...   \n",
       "9546                No                  No                No   \n",
       "9547                No                  No                No   \n",
       "9548                No                  No                No   \n",
       "9549                No                  No                No   \n",
       "9550                No                  No                No   \n",
       "\n",
       "     Switch to order menu Price range  Aggregate rating  Rating color  \\\n",
       "0                      No           3               4.8    Dark Green   \n",
       "1                      No           3               4.5    Dark Green   \n",
       "2                      No           4               4.4         Green   \n",
       "3                      No           4               4.9    Dark Green   \n",
       "4                      No           4               4.8    Dark Green   \n",
       "...                   ...         ...               ...           ...   \n",
       "9546                   No           3               4.1         Green   \n",
       "9547                   No           3               4.2         Green   \n",
       "9548                   No           4               3.7        Yellow   \n",
       "9549                   No           4               4.0         Green   \n",
       "9550                   No           2               4.0         Green   \n",
       "\n",
       "     Rating text Votes  \n",
       "0      Excellent   314  \n",
       "1      Excellent   591  \n",
       "2      Very Good   270  \n",
       "3      Excellent   365  \n",
       "4      Excellent   229  \n",
       "...          ...   ...  \n",
       "9546   Very Good   788  \n",
       "9547   Very Good  1034  \n",
       "9548        Good   661  \n",
       "9549   Very Good   901  \n",
       "9550   Very Good   591  \n",
       "\n",
       "[9551 rows x 21 columns]"
      ]
     },
     "execution_count": 3,
     "metadata": {},
     "output_type": "execute_result"
    }
   ],
   "source": [
    "hh_data"
   ]
  },
  {
   "cell_type": "code",
   "execution_count": 14,
   "metadata": {
    "execution": {
     "iopub.execute_input": "2024-09-14T20:50:38.954077Z",
     "iopub.status.busy": "2024-09-14T20:50:38.953171Z",
     "iopub.status.idle": "2024-09-14T20:50:38.962062Z",
     "shell.execute_reply": "2024-09-14T20:50:38.960666Z",
     "shell.execute_reply.started": "2024-09-14T20:50:38.954033Z"
    }
   },
   "outputs": [],
   "source": [
    "hh_data.drop(columns = [\"Restaurant ID\",\"Country Code\",\"Locality\",\"Address\",\"Locality Verbose\",\"Longitude\",\"Latitude\",\"Votes\",\"Rating color\"], inplace = True)"
   ]
  },
  {
   "cell_type": "code",
   "execution_count": 15,
   "metadata": {
    "execution": {
     "iopub.execute_input": "2024-09-14T20:50:39.702018Z",
     "iopub.status.busy": "2024-09-14T20:50:39.701556Z",
     "iopub.status.idle": "2024-09-14T20:50:39.709632Z",
     "shell.execute_reply": "2024-09-14T20:50:39.708368Z",
     "shell.execute_reply.started": "2024-09-14T20:50:39.701975Z"
    }
   },
   "outputs": [
    {
     "data": {
      "text/plain": [
       "['Restaurant Name',\n",
       " 'City',\n",
       " 'Cuisines',\n",
       " 'Average Cost for two',\n",
       " 'Currency',\n",
       " 'Has Table booking',\n",
       " 'Has Online delivery',\n",
       " 'Is delivering now',\n",
       " 'Switch to order menu',\n",
       " 'Price range',\n",
       " 'Aggregate rating',\n",
       " 'Rating text']"
      ]
     },
     "execution_count": 15,
     "metadata": {},
     "output_type": "execute_result"
    }
   ],
   "source": [
    "hh_data.columns.to_list()"
   ]
  },
  {
   "cell_type": "code",
   "execution_count": 16,
   "metadata": {
    "execution": {
     "iopub.execute_input": "2024-09-14T20:50:40.173741Z",
     "iopub.status.busy": "2024-09-14T20:50:40.173322Z",
     "iopub.status.idle": "2024-09-14T20:50:40.197558Z",
     "shell.execute_reply": "2024-09-14T20:50:40.196428Z",
     "shell.execute_reply.started": "2024-09-14T20:50:40.173704Z"
    }
   },
   "outputs": [],
   "source": [
    "hh_data.drop_duplicates(inplace= True)\n",
    "hh_data.reset_index(drop= True,inplace = True)\n",
    "hh_data.dropna(inplace = True)"
   ]
  },
  {
   "cell_type": "code",
   "execution_count": 17,
   "metadata": {
    "execution": {
     "iopub.execute_input": "2024-09-14T20:50:41.348269Z",
     "iopub.status.busy": "2024-09-14T20:50:41.347120Z",
     "iopub.status.idle": "2024-09-14T20:50:41.363528Z",
     "shell.execute_reply": "2024-09-14T20:50:41.362384Z",
     "shell.execute_reply.started": "2024-09-14T20:50:41.348219Z"
    }
   },
   "outputs": [
    {
     "name": "stdout",
     "output_type": "stream",
     "text": [
      "<class 'pandas.core.frame.DataFrame'>\n",
      "RangeIndex: 9205 entries, 0 to 9204\n",
      "Data columns (total 12 columns):\n",
      " #   Column                Non-Null Count  Dtype  \n",
      "---  ------                --------------  -----  \n",
      " 0   Restaurant Name       9205 non-null   object \n",
      " 1   City                  9205 non-null   object \n",
      " 2   Cuisines              9205 non-null   object \n",
      " 3   Average Cost for two  9205 non-null   int64  \n",
      " 4   Currency              9205 non-null   object \n",
      " 5   Has Table booking     9205 non-null   object \n",
      " 6   Has Online delivery   9205 non-null   object \n",
      " 7   Is delivering now     9205 non-null   object \n",
      " 8   Switch to order menu  9205 non-null   object \n",
      " 9   Price range           9205 non-null   int64  \n",
      " 10  Aggregate rating      9205 non-null   float64\n",
      " 11  Rating text           9205 non-null   object \n",
      "dtypes: float64(1), int64(2), object(9)\n",
      "memory usage: 863.1+ KB\n"
     ]
    }
   ],
   "source": [
    "hh_data.info()"
   ]
  },
  {
   "cell_type": "code",
   "execution_count": 18,
   "metadata": {
    "execution": {
     "iopub.execute_input": "2024-09-14T20:50:42.294692Z",
     "iopub.status.busy": "2024-09-14T20:50:42.293738Z",
     "iopub.status.idle": "2024-09-14T20:50:42.314840Z",
     "shell.execute_reply": "2024-09-14T20:50:42.313660Z",
     "shell.execute_reply.started": "2024-09-14T20:50:42.294636Z"
    }
   },
   "outputs": [
    {
     "data": {
      "text/html": [
       "<div>\n",
       "<style scoped>\n",
       "    .dataframe tbody tr th:only-of-type {\n",
       "        vertical-align: middle;\n",
       "    }\n",
       "\n",
       "    .dataframe tbody tr th {\n",
       "        vertical-align: top;\n",
       "    }\n",
       "\n",
       "    .dataframe thead th {\n",
       "        text-align: right;\n",
       "    }\n",
       "</style>\n",
       "<table border=\"1\" class=\"dataframe\">\n",
       "  <thead>\n",
       "    <tr style=\"text-align: right;\">\n",
       "      <th></th>\n",
       "      <th>Restaurant Name</th>\n",
       "      <th>City</th>\n",
       "      <th>Cuisines</th>\n",
       "      <th>Average Cost for two</th>\n",
       "      <th>Currency</th>\n",
       "      <th>Has Table booking</th>\n",
       "      <th>Has Online delivery</th>\n",
       "      <th>Is delivering now</th>\n",
       "      <th>Switch to order menu</th>\n",
       "      <th>Price range</th>\n",
       "      <th>Aggregate rating</th>\n",
       "      <th>Rating text</th>\n",
       "    </tr>\n",
       "  </thead>\n",
       "  <tbody>\n",
       "    <tr>\n",
       "      <th>0</th>\n",
       "      <td>Le Petit Souffle</td>\n",
       "      <td>Makati City</td>\n",
       "      <td>French, Japanese, Desserts</td>\n",
       "      <td>1100</td>\n",
       "      <td>Botswana Pula(P)</td>\n",
       "      <td>Yes</td>\n",
       "      <td>No</td>\n",
       "      <td>No</td>\n",
       "      <td>No</td>\n",
       "      <td>3</td>\n",
       "      <td>4.8</td>\n",
       "      <td>Excellent</td>\n",
       "    </tr>\n",
       "    <tr>\n",
       "      <th>1</th>\n",
       "      <td>Izakaya Kikufuji</td>\n",
       "      <td>Makati City</td>\n",
       "      <td>Japanese</td>\n",
       "      <td>1200</td>\n",
       "      <td>Botswana Pula(P)</td>\n",
       "      <td>Yes</td>\n",
       "      <td>No</td>\n",
       "      <td>No</td>\n",
       "      <td>No</td>\n",
       "      <td>3</td>\n",
       "      <td>4.5</td>\n",
       "      <td>Excellent</td>\n",
       "    </tr>\n",
       "    <tr>\n",
       "      <th>2</th>\n",
       "      <td>Heat - Edsa Shangri-La</td>\n",
       "      <td>Mandaluyong City</td>\n",
       "      <td>Seafood, Asian, Filipino, Indian</td>\n",
       "      <td>4000</td>\n",
       "      <td>Botswana Pula(P)</td>\n",
       "      <td>Yes</td>\n",
       "      <td>No</td>\n",
       "      <td>No</td>\n",
       "      <td>No</td>\n",
       "      <td>4</td>\n",
       "      <td>4.4</td>\n",
       "      <td>Very Good</td>\n",
       "    </tr>\n",
       "    <tr>\n",
       "      <th>3</th>\n",
       "      <td>Ooma</td>\n",
       "      <td>Mandaluyong City</td>\n",
       "      <td>Japanese, Sushi</td>\n",
       "      <td>1500</td>\n",
       "      <td>Botswana Pula(P)</td>\n",
       "      <td>No</td>\n",
       "      <td>No</td>\n",
       "      <td>No</td>\n",
       "      <td>No</td>\n",
       "      <td>4</td>\n",
       "      <td>4.9</td>\n",
       "      <td>Excellent</td>\n",
       "    </tr>\n",
       "    <tr>\n",
       "      <th>4</th>\n",
       "      <td>Sambo Kojin</td>\n",
       "      <td>Mandaluyong City</td>\n",
       "      <td>Japanese, Korean</td>\n",
       "      <td>1500</td>\n",
       "      <td>Botswana Pula(P)</td>\n",
       "      <td>Yes</td>\n",
       "      <td>No</td>\n",
       "      <td>No</td>\n",
       "      <td>No</td>\n",
       "      <td>4</td>\n",
       "      <td>4.8</td>\n",
       "      <td>Excellent</td>\n",
       "    </tr>\n",
       "    <tr>\n",
       "      <th>...</th>\n",
       "      <td>...</td>\n",
       "      <td>...</td>\n",
       "      <td>...</td>\n",
       "      <td>...</td>\n",
       "      <td>...</td>\n",
       "      <td>...</td>\n",
       "      <td>...</td>\n",
       "      <td>...</td>\n",
       "      <td>...</td>\n",
       "      <td>...</td>\n",
       "      <td>...</td>\n",
       "      <td>...</td>\n",
       "    </tr>\n",
       "    <tr>\n",
       "      <th>9200</th>\n",
       "      <td>Naml۱ Gurme</td>\n",
       "      <td>��stanbul</td>\n",
       "      <td>Turkish</td>\n",
       "      <td>80</td>\n",
       "      <td>Turkish Lira(TL)</td>\n",
       "      <td>No</td>\n",
       "      <td>No</td>\n",
       "      <td>No</td>\n",
       "      <td>No</td>\n",
       "      <td>3</td>\n",
       "      <td>4.1</td>\n",
       "      <td>Very Good</td>\n",
       "    </tr>\n",
       "    <tr>\n",
       "      <th>9201</th>\n",
       "      <td>Ceviz A��ac۱</td>\n",
       "      <td>��stanbul</td>\n",
       "      <td>World Cuisine, Patisserie, Cafe</td>\n",
       "      <td>105</td>\n",
       "      <td>Turkish Lira(TL)</td>\n",
       "      <td>No</td>\n",
       "      <td>No</td>\n",
       "      <td>No</td>\n",
       "      <td>No</td>\n",
       "      <td>3</td>\n",
       "      <td>4.2</td>\n",
       "      <td>Very Good</td>\n",
       "    </tr>\n",
       "    <tr>\n",
       "      <th>9202</th>\n",
       "      <td>Huqqa</td>\n",
       "      <td>��stanbul</td>\n",
       "      <td>Italian, World Cuisine</td>\n",
       "      <td>170</td>\n",
       "      <td>Turkish Lira(TL)</td>\n",
       "      <td>No</td>\n",
       "      <td>No</td>\n",
       "      <td>No</td>\n",
       "      <td>No</td>\n",
       "      <td>4</td>\n",
       "      <td>3.7</td>\n",
       "      <td>Good</td>\n",
       "    </tr>\n",
       "    <tr>\n",
       "      <th>9203</th>\n",
       "      <td>A���k Kahve</td>\n",
       "      <td>��stanbul</td>\n",
       "      <td>Restaurant Cafe</td>\n",
       "      <td>120</td>\n",
       "      <td>Turkish Lira(TL)</td>\n",
       "      <td>No</td>\n",
       "      <td>No</td>\n",
       "      <td>No</td>\n",
       "      <td>No</td>\n",
       "      <td>4</td>\n",
       "      <td>4.0</td>\n",
       "      <td>Very Good</td>\n",
       "    </tr>\n",
       "    <tr>\n",
       "      <th>9204</th>\n",
       "      <td>Walter's Coffee Roastery</td>\n",
       "      <td>��stanbul</td>\n",
       "      <td>Cafe</td>\n",
       "      <td>55</td>\n",
       "      <td>Turkish Lira(TL)</td>\n",
       "      <td>No</td>\n",
       "      <td>No</td>\n",
       "      <td>No</td>\n",
       "      <td>No</td>\n",
       "      <td>2</td>\n",
       "      <td>4.0</td>\n",
       "      <td>Very Good</td>\n",
       "    </tr>\n",
       "  </tbody>\n",
       "</table>\n",
       "<p>9205 rows × 12 columns</p>\n",
       "</div>"
      ],
      "text/plain": [
       "               Restaurant Name              City  \\\n",
       "0             Le Petit Souffle       Makati City   \n",
       "1             Izakaya Kikufuji       Makati City   \n",
       "2       Heat - Edsa Shangri-La  Mandaluyong City   \n",
       "3                         Ooma  Mandaluyong City   \n",
       "4                  Sambo Kojin  Mandaluyong City   \n",
       "...                        ...               ...   \n",
       "9200               Naml۱ Gurme         ��stanbul   \n",
       "9201              Ceviz A��ac۱         ��stanbul   \n",
       "9202                     Huqqa         ��stanbul   \n",
       "9203               A���k Kahve         ��stanbul   \n",
       "9204  Walter's Coffee Roastery         ��stanbul   \n",
       "\n",
       "                              Cuisines  Average Cost for two  \\\n",
       "0           French, Japanese, Desserts                  1100   \n",
       "1                             Japanese                  1200   \n",
       "2     Seafood, Asian, Filipino, Indian                  4000   \n",
       "3                      Japanese, Sushi                  1500   \n",
       "4                     Japanese, Korean                  1500   \n",
       "...                                ...                   ...   \n",
       "9200                           Turkish                    80   \n",
       "9201   World Cuisine, Patisserie, Cafe                   105   \n",
       "9202            Italian, World Cuisine                   170   \n",
       "9203                   Restaurant Cafe                   120   \n",
       "9204                              Cafe                    55   \n",
       "\n",
       "              Currency Has Table booking Has Online delivery  \\\n",
       "0     Botswana Pula(P)               Yes                  No   \n",
       "1     Botswana Pula(P)               Yes                  No   \n",
       "2     Botswana Pula(P)               Yes                  No   \n",
       "3     Botswana Pula(P)                No                  No   \n",
       "4     Botswana Pula(P)               Yes                  No   \n",
       "...                ...               ...                 ...   \n",
       "9200  Turkish Lira(TL)                No                  No   \n",
       "9201  Turkish Lira(TL)                No                  No   \n",
       "9202  Turkish Lira(TL)                No                  No   \n",
       "9203  Turkish Lira(TL)                No                  No   \n",
       "9204  Turkish Lira(TL)                No                  No   \n",
       "\n",
       "     Is delivering now Switch to order menu  Price range  Aggregate rating  \\\n",
       "0                   No                   No            3               4.8   \n",
       "1                   No                   No            3               4.5   \n",
       "2                   No                   No            4               4.4   \n",
       "3                   No                   No            4               4.9   \n",
       "4                   No                   No            4               4.8   \n",
       "...                ...                  ...          ...               ...   \n",
       "9200                No                   No            3               4.1   \n",
       "9201                No                   No            3               4.2   \n",
       "9202                No                   No            4               3.7   \n",
       "9203                No                   No            4               4.0   \n",
       "9204                No                   No            2               4.0   \n",
       "\n",
       "     Rating text  \n",
       "0      Excellent  \n",
       "1      Excellent  \n",
       "2      Very Good  \n",
       "3      Excellent  \n",
       "4      Excellent  \n",
       "...          ...  \n",
       "9200   Very Good  \n",
       "9201   Very Good  \n",
       "9202        Good  \n",
       "9203   Very Good  \n",
       "9204   Very Good  \n",
       "\n",
       "[9205 rows x 12 columns]"
      ]
     },
     "execution_count": 18,
     "metadata": {},
     "output_type": "execute_result"
    }
   ],
   "source": [
    "pd.set_option('display.max_colwidth', None)\n",
    "hh_data"
   ]
  },
  {
   "cell_type": "code",
   "execution_count": 23,
   "metadata": {
    "execution": {
     "iopub.execute_input": "2024-09-14T21:14:28.261238Z",
     "iopub.status.busy": "2024-09-14T21:14:28.260737Z",
     "iopub.status.idle": "2024-09-14T21:14:29.121697Z",
     "shell.execute_reply": "2024-09-14T21:14:29.120473Z",
     "shell.execute_reply.started": "2024-09-14T21:14:28.261196Z"
    }
   },
   "outputs": [],
   "source": [
    "import pandas as pd\n",
    "import numpy as np\n",
    "import matplotlib.pyplot as plt\n",
    "%matplotlib inline\n",
    "import seaborn as sns\n",
    "import ast\n",
    "from sklearn.feature_extraction.text import CountVectorizer\n",
    "import nltk\n",
    "from nltk.stem.porter import PorterStemmer\n",
    "from sklearn.metrics.pairwise import cosine_similarity\n",
    "import pickle \n",
    "\n",
    "import warnings"
   ]
  },
  {
   "cell_type": "code",
   "execution_count": 31,
   "metadata": {
    "execution": {
     "iopub.execute_input": "2024-09-14T21:21:01.764252Z",
     "iopub.status.busy": "2024-09-14T21:21:01.763306Z",
     "iopub.status.idle": "2024-09-14T21:21:01.770219Z",
     "shell.execute_reply": "2024-09-14T21:21:01.768901Z",
     "shell.execute_reply.started": "2024-09-14T21:21:01.764202Z"
    }
   },
   "outputs": [],
   "source": [
    "def create_textual_representation(row):\n",
    "    textual_representation =f\"\"\"\n",
    "    Restaurant Name: {row['Restaurant Name']},\n",
    "    City: {row['City']},\n",
    "    Cuisines: {row['Cuisines']},\n",
    "    Average Cost for two: {row['Average Cost for two']},\n",
    "    Currency: {row['Currency']},\n",
    "    Has Table booking: {row['Has Table booking']},\n",
    "    Has Online delivery: {row['Has Online delivery']},\n",
    "    Is delivering now: {row['Is delivering now']},\n",
    "    Price range: {row['Price range']},\n",
    "    Aggregate rating: {row['Aggregate rating']},\n",
    "    Rating text: {row['Rating text'] }\n",
    "    \"\"\"\n",
    "    return textual_representation"
   ]
  },
  {
   "cell_type": "code",
   "execution_count": 32,
   "metadata": {
    "execution": {
     "iopub.execute_input": "2024-09-14T21:21:02.639920Z",
     "iopub.status.busy": "2024-09-14T21:21:02.639407Z",
     "iopub.status.idle": "2024-09-14T21:21:03.025428Z",
     "shell.execute_reply": "2024-09-14T21:21:03.024080Z",
     "shell.execute_reply.started": "2024-09-14T21:21:02.639877Z"
    }
   },
   "outputs": [],
   "source": [
    "hh_data['textual_representation'] = hh_data.apply(create_textual_representation, axis=1)"
   ]
  },
  {
   "cell_type": "code",
   "execution_count": 34,
   "metadata": {
    "execution": {
     "iopub.execute_input": "2024-09-14T21:21:24.692869Z",
     "iopub.status.busy": "2024-09-14T21:21:24.692408Z",
     "iopub.status.idle": "2024-09-14T21:21:24.699366Z",
     "shell.execute_reply": "2024-09-14T21:21:24.698052Z",
     "shell.execute_reply.started": "2024-09-14T21:21:24.692829Z"
    }
   },
   "outputs": [
    {
     "name": "stdout",
     "output_type": "stream",
     "text": [
      "\n",
      "    Restaurant Name: Le Petit Souffle,\n",
      "    City: Makati City,\n",
      "    Cuisines: French, Japanese, Desserts,\n",
      "    Average Cost for two: 1100,\n",
      "    Currency: Botswana Pula(P),\n",
      "    Has Table booking: Yes,\n",
      "    Has Online delivery: No,\n",
      "    Is delivering now: No,\n",
      "    Price range: 3,\n",
      "    Aggregate rating: 4.8,\n",
      "    Rating text: Excellent\n",
      "    \n"
     ]
    }
   ],
   "source": [
    "print(hh_data['textual_representation'].values[0])"
   ]
  },
  {
   "cell_type": "code",
   "execution_count": 35,
   "metadata": {
    "execution": {
     "iopub.execute_input": "2024-09-14T21:21:58.164138Z",
     "iopub.status.busy": "2024-09-14T21:21:58.163108Z",
     "iopub.status.idle": "2024-09-14T21:21:58.857443Z",
     "shell.execute_reply": "2024-09-14T21:21:58.856280Z",
     "shell.execute_reply.started": "2024-09-14T21:21:58.164071Z"
    }
   },
   "outputs": [
    {
     "data": {
      "text/plain": [
       "array([[0, 0, 0, ..., 0, 0, 0],\n",
       "       [0, 0, 0, ..., 0, 0, 0],\n",
       "       [0, 0, 0, ..., 0, 0, 0],\n",
       "       ...,\n",
       "       [0, 0, 0, ..., 0, 0, 0],\n",
       "       [0, 0, 0, ..., 0, 0, 0],\n",
       "       [0, 0, 0, ..., 0, 0, 0]])"
      ]
     },
     "execution_count": 35,
     "metadata": {},
     "output_type": "execute_result"
    }
   ],
   "source": [
    "cv=CountVectorizer(max_features=5000, stop_words='english')\n",
    "vectors=cv.fit_transform(hh_data['textual_representation']).toarray()\n",
    "vectors"
   ]
  },
  {
   "cell_type": "code",
   "execution_count": 36,
   "metadata": {
    "execution": {
     "iopub.execute_input": "2024-09-14T21:22:13.870088Z",
     "iopub.status.busy": "2024-09-14T21:22:13.869245Z",
     "iopub.status.idle": "2024-09-14T21:22:13.877694Z",
     "shell.execute_reply": "2024-09-14T21:22:13.876410Z",
     "shell.execute_reply.started": "2024-09-14T21:22:13.870036Z"
    }
   },
   "outputs": [
    {
     "data": {
      "text/plain": [
       "(9205, 5000)"
      ]
     },
     "execution_count": 36,
     "metadata": {},
     "output_type": "execute_result"
    }
   ],
   "source": [
    "vectors.shape"
   ]
  },
  {
   "cell_type": "code",
   "execution_count": 38,
   "metadata": {
    "execution": {
     "iopub.execute_input": "2024-09-14T21:22:50.602331Z",
     "iopub.status.busy": "2024-09-14T21:22:50.601287Z",
     "iopub.status.idle": "2024-09-14T21:22:50.607201Z",
     "shell.execute_reply": "2024-09-14T21:22:50.605850Z",
     "shell.execute_reply.started": "2024-09-14T21:22:50.602287Z"
    }
   },
   "outputs": [],
   "source": [
    "ps=PorterStemmer()\n"
   ]
  },
  {
   "cell_type": "code",
   "execution_count": 39,
   "metadata": {
    "execution": {
     "iopub.execute_input": "2024-09-14T21:23:30.078996Z",
     "iopub.status.busy": "2024-09-14T21:23:30.077932Z",
     "iopub.status.idle": "2024-09-14T21:23:30.084481Z",
     "shell.execute_reply": "2024-09-14T21:23:30.083322Z",
     "shell.execute_reply.started": "2024-09-14T21:23:30.078938Z"
    }
   },
   "outputs": [],
   "source": [
    "def stemming(text):\n",
    "    li=[]\n",
    "    for i in text.split():\n",
    "        li.append(ps.stem(i))\n",
    "        \n",
    "    return ' '.join(li)"
   ]
  },
  {
   "cell_type": "code",
   "execution_count": 40,
   "metadata": {
    "execution": {
     "iopub.execute_input": "2024-09-14T21:23:45.544485Z",
     "iopub.status.busy": "2024-09-14T21:23:45.543946Z",
     "iopub.status.idle": "2024-09-14T21:23:54.708454Z",
     "shell.execute_reply": "2024-09-14T21:23:54.707176Z",
     "shell.execute_reply.started": "2024-09-14T21:23:45.544436Z"
    }
   },
   "outputs": [],
   "source": [
    "hh_data['textual_representation']=hh_data['textual_representation'].apply(stemming)\n"
   ]
  },
  {
   "cell_type": "code",
   "execution_count": 41,
   "metadata": {
    "execution": {
     "iopub.execute_input": "2024-09-14T21:24:09.795043Z",
     "iopub.status.busy": "2024-09-14T21:24:09.794578Z",
     "iopub.status.idle": "2024-09-14T21:24:16.551656Z",
     "shell.execute_reply": "2024-09-14T21:24:16.550500Z",
     "shell.execute_reply.started": "2024-09-14T21:24:09.794998Z"
    }
   },
   "outputs": [
    {
     "data": {
      "text/plain": [
       "array([[1.        , 0.89170166, 0.72471379, ..., 0.64820372, 0.66877624,\n",
       "        0.63692976],\n",
       "       [0.89170166, 1.        , 0.78470603, ..., 0.70186241, 0.72413793,\n",
       "        0.68965517],\n",
       "       [0.72471379, 0.78470603, 1.        , ..., 0.67082039, 0.6905413 ,\n",
       "        0.65915306],\n",
       "       ...,\n",
       "       [0.64820372, 0.70186241, 0.67082039, ..., 1.        , 0.87732801,\n",
       "        0.84223489],\n",
       "       [0.66877624, 0.72413793, 0.6905413 , ..., 0.87732801, 1.        ,\n",
       "        0.89655172],\n",
       "       [0.63692976, 0.68965517, 0.65915306, ..., 0.84223489, 0.89655172,\n",
       "        1.        ]])"
      ]
     },
     "execution_count": 41,
     "metadata": {},
     "output_type": "execute_result"
    }
   ],
   "source": [
    "similarity=cosine_similarity(vectors)\n",
    "similarity"
   ]
  },
  {
   "cell_type": "code",
   "execution_count": 42,
   "metadata": {
    "execution": {
     "iopub.execute_input": "2024-09-14T21:24:34.166787Z",
     "iopub.status.busy": "2024-09-14T21:24:34.166325Z",
     "iopub.status.idle": "2024-09-14T21:24:34.173996Z",
     "shell.execute_reply": "2024-09-14T21:24:34.172812Z",
     "shell.execute_reply.started": "2024-09-14T21:24:34.166748Z"
    }
   },
   "outputs": [
    {
     "data": {
      "text/plain": [
       "(9205, 9205)"
      ]
     },
     "execution_count": 42,
     "metadata": {},
     "output_type": "execute_result"
    }
   ],
   "source": [
    "similarity.shape\n"
   ]
  },
  {
   "cell_type": "code",
   "execution_count": 43,
   "metadata": {
    "execution": {
     "iopub.execute_input": "2024-09-14T21:24:48.083917Z",
     "iopub.status.busy": "2024-09-14T21:24:48.083473Z",
     "iopub.status.idle": "2024-09-14T21:24:48.100979Z",
     "shell.execute_reply": "2024-09-14T21:24:48.099575Z",
     "shell.execute_reply.started": "2024-09-14T21:24:48.083877Z"
    }
   },
   "outputs": [
    {
     "data": {
      "text/plain": [
       "[(1, 0.8917016574178744),\n",
       " (9, 0.8454027929649516),\n",
       " (4, 0.8316554899054915),\n",
       " (3, 0.8140915784106941),\n",
       " (17, 0.8008534347238068)]"
      ]
     },
     "execution_count": 43,
     "metadata": {},
     "output_type": "execute_result"
    }
   ],
   "source": [
    "sorted(list(enumerate(similarity[0])), reverse=True, key=lambda x:x[1])[1:6]\n"
   ]
  },
  {
   "cell_type": "code",
   "execution_count": 50,
   "metadata": {
    "execution": {
     "iopub.execute_input": "2024-09-14T21:30:11.441850Z",
     "iopub.status.busy": "2024-09-14T21:30:11.441287Z",
     "iopub.status.idle": "2024-09-14T21:30:11.448837Z",
     "shell.execute_reply": "2024-09-14T21:30:11.447532Z",
     "shell.execute_reply.started": "2024-09-14T21:30:11.441809Z"
    }
   },
   "outputs": [],
   "source": [
    "def recommend(Restaurant):\n",
    "    Restaurant_index=hh_data[hh_data['Restaurant Name']==Restaurant].index[0]  ##this is the problem\n",
    "    distances=similarity[Restaurant_index]\n",
    "    Restaurant_list=sorted(list(enumerate(distances)), reverse=True , key=lambda x:x[1])[1:6]\n",
    "    \n",
    "    \n",
    "    for i in Restaurant_list:\n",
    "        print(hh_data.iloc[i[0]]['Restaurant Name'])"
   ]
  },
  {
   "cell_type": "code",
   "execution_count": 51,
   "metadata": {
    "execution": {
     "iopub.execute_input": "2024-09-14T21:30:12.434009Z",
     "iopub.status.busy": "2024-09-14T21:30:12.433545Z",
     "iopub.status.idle": "2024-09-14T21:30:12.452309Z",
     "shell.execute_reply": "2024-09-14T21:30:12.451029Z",
     "shell.execute_reply.started": "2024-09-14T21:30:12.433952Z"
    }
   },
   "outputs": [
    {
     "name": "stdout",
     "output_type": "stream",
     "text": [
      "Izakaya Kikufuji\n",
      "Locavore\n",
      "Sambo Kojin\n",
      "Ooma\n",
      "Balay Dako\n"
     ]
    }
   ],
   "source": [
    "recommend('Le Petit Souffle')"
   ]
  },
  {
   "cell_type": "code",
   "execution_count": 52,
   "metadata": {
    "execution": {
     "iopub.execute_input": "2024-09-14T21:30:27.735753Z",
     "iopub.status.busy": "2024-09-14T21:30:27.735275Z",
     "iopub.status.idle": "2024-09-14T21:30:27.754778Z",
     "shell.execute_reply": "2024-09-14T21:30:27.753623Z",
     "shell.execute_reply.started": "2024-09-14T21:30:27.735699Z"
    }
   },
   "outputs": [
    {
     "name": "stdout",
     "output_type": "stream",
     "text": [
      "Sambo Kojin\n",
      "Izakaya Kikufuji\n",
      "Locavore\n",
      "Roka\n",
      "Din Tai Fung\n"
     ]
    }
   ],
   "source": [
    "recommend('Ooma')"
   ]
  },
  {
   "cell_type": "code",
   "execution_count": null,
   "metadata": {},
   "outputs": [],
   "source": []
  }
 ],
 "metadata": {
  "kaggle": {
   "accelerator": "none",
   "dataSources": [
    {
     "datasetId": 5663890,
     "sourceId": 9345089,
     "sourceType": "datasetVersion"
    }
   ],
   "dockerImageVersionId": 30761,
   "isGpuEnabled": false,
   "isInternetEnabled": true,
   "language": "python",
   "sourceType": "notebook"
  },
  "kernelspec": {
   "display_name": "Python 3 (ipykernel)",
   "language": "python",
   "name": "python3"
  },
  "language_info": {
   "codemirror_mode": {
    "name": "ipython",
    "version": 3
   },
   "file_extension": ".py",
   "mimetype": "text/x-python",
   "name": "python",
   "nbconvert_exporter": "python",
   "pygments_lexer": "ipython3",
   "version": "3.12.4"
  }
 },
 "nbformat": 4,
 "nbformat_minor": 4
}
